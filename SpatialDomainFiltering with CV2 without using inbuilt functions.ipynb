{
 "cells": [
  {
   "cell_type": "markdown",
   "metadata": {},
   "source": [
    "<b>Aim:</b><br>\n",
    "a) To write a program in PYTHON to implement spatial domain averaging filter and to observe its blurring effect on the image without using inbuilt functions<br>\n",
    "b) To write a program in PYTHON to implement spatial domain median filter to remove salt and pepper noise without using inbuilt functions<br>\n",
    "\n",
    "<b> Theory </b><<br>\n",
    "\n",
    "<b>Neighborhood processing in spatial domain:</b><br>\n",
    "\n",
    "Here, to modify one pixel, we consider values of the immediate neighboring pixels also. For this purpose, 3X3, 5X5 or 7X7 neighborhood mask can be considered.  Example of 3X3 mask is shown below.<br>\n",
    "\n",
    "f(x-1,y-1)\tf(x-1,y)\tf(x-1,y+1)<br>\n",
    "f(x,y-1)\tf(x,y)\t    f(x,y+1)<br>\n",
    "f(x+1,y-1)\tf(x+1,y)\tf(x+1,y+1)<br>\n",
    "\n",
    "\n",
    "<b>Low Pass filtering</b><br>\n",
    "\n",
    "It is also known as smoothing filter. It removes the high frequency content from the image. It is also used to blurr an image. Low pass averaging filter mask is as shown.<br>\n",
    "\n",
    "1/9\t1/9\t1/9<br>\n",
    "1/9\t1/9\t1/9<br>\n",
    "1/9\t1/9\t1/9<br>\n",
    "\n",
    "<b>High Pass Filtering</b><br>\n",
    "\n",
    "It eliminates low frequency regions while retaining or enhancing the high frequency components. High pass filtering mask is as shown.<br>\n",
    "-1/9\t-1/9\t-1/9<br>\n",
    "-1/9\t 8/9\t-1/9<br>\n",
    "-1/9\t-1/9\t-1/9<br>\n",
    "\n",
    "\n",
    "<b>Median Filtering</b><br>\n",
    "\n",
    "It is also known as nonlinear filtering. It is used to eliminate salt and pepper noise. Here the pixel value is replaced by median value of the neighbouring pixel.<br>\n"
   ]
  },
  {
   "cell_type": "code",
   "execution_count": 1,
   "metadata": {},
   "outputs": [],
   "source": [
    "#import cv2, numpy, matplotlib\n",
    "import cv2\n",
    "import numpy as np\n",
    "import matplotlib.pyplot as plt"
   ]
  },
  {
   "cell_type": "code",
   "execution_count": 2,
   "metadata": {},
   "outputs": [],
   "source": [
    "#Low Pass SPatial Domain Filtering to observe the blurring effect\n",
    "img= cv2.imread('Sample.tif',0) #Read the image\n",
    "m,n=img.shape #Obtain number of rows and columns of the image"
   ]
  },
  {
   "cell_type": "code",
   "execution_count": 3,
   "metadata": {},
   "outputs": [],
   "source": [
    "#Develop Averaging filter(3,3) mask\n",
    "mask= np.ones([3,3],dtype=int)\n",
    "mask=mask/9"
   ]
  },
  {
   "cell_type": "code",
   "execution_count": 4,
   "metadata": {},
   "outputs": [
    {
     "data": {
      "text/plain": [
       "True"
      ]
     },
     "execution_count": 4,
     "metadata": {},
     "output_type": "execute_result"
    }
   ],
   "source": [
    "#Convolve the 3X3 mask over the image \n",
    "\n",
    "img_new=np.zeros([m,n])\n",
    "for i in range(1,m-1):\n",
    "    for j in range(1,n-1):\n",
    "        temp= img[i-1,j-1]*mask[0,0]+img[i-1,j]*mask[0,1]+img[i-1,j+1]*mask[0,2]+img[i,j-1]*mask[1,0]+img[i,j]*mask[1,1]+img[i,j+1]*mask[1,2]+img[i+1,j-1]*mask[2,0]+img[i+1,j]*mask[2,1]+img[i+1,j+1]*mask[2,2]\n",
    "      \n",
    "        img_new[i,j]=temp\n",
    "img_new=img_new.astype(np.uint8)\n",
    "cv2.imwrite('blurred.tif',img_new)"
   ]
  },
  {
   "cell_type": "code",
   "execution_count": 5,
   "metadata": {},
   "outputs": [],
   "source": [
    "#Median SPatial Domain Filtering\n",
    "img_noisy1= cv2.imread('noisysaltpepper.tif',0) #Read the image\n",
    "m,n=img_noisy1.shape #Obtain the number of rows and columns of the image"
   ]
  },
  {
   "cell_type": "code",
   "execution_count": 6,
   "metadata": {},
   "outputs": [
    {
     "data": {
      "text/plain": [
       "True"
      ]
     },
     "execution_count": 6,
     "metadata": {},
     "output_type": "execute_result"
    }
   ],
   "source": [
    "# Traverse the image. For every 3X3 area, find the median of the pixels and replace the ceter pixel by the median\n",
    "img_new1=np.zeros([m,n])\n",
    "for i in range(1,m-1):\n",
    "    for j in range(1,n-1):\n",
    "        temp= [img_noisy1[i-1,j-1],img_noisy1[i-1,j],img_noisy1[i-1,j+1],img_noisy1[i,j-1],img_noisy1[i,j],img_noisy1[i,j+1],img_noisy1[i+1,j-1],img_noisy1[i+1,j],img_noisy1[i+1,j+1]]\n",
    "        temp=sorted(temp)\n",
    "        img_new1[i,j]=temp[4]\n",
    "img_new1=img_new1.astype(np.uint8)\n",
    "cv2.imwrite('new_median_filtered.png',img_new1)\n"
   ]
  },
  {
   "cell_type": "markdown",
   "metadata": {},
   "source": [
    "<b>Observations</b>\n",
    "In case of low pass filtering it is observed that the filtered image is slightly blurred. If we increase the size of the averaging mask, more blurring can be obtained.\n",
    "In case of median filtering, we can see that the median filtered image is considerably enhanced with hardly any salt and pepper noise in it."
   ]
  }
 ],
 "metadata": {
  "kernelspec": {
   "display_name": "Python 3",
   "language": "python",
   "name": "python3"
  },
  "language_info": {
   "codemirror_mode": {
    "name": "ipython",
    "version": 3
   },
   "file_extension": ".py",
   "mimetype": "text/x-python",
   "name": "python",
   "nbconvert_exporter": "python",
   "pygments_lexer": "ipython3",
   "version": "3.7.6"
  }
 },
 "nbformat": 4,
 "nbformat_minor": 4
}
