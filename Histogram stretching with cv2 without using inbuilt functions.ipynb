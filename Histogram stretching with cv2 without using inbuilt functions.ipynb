{
 "cells": [
  {
   "cell_type": "markdown",
   "metadata": {},
   "source": [
    "<c><h3> Histogram Processing Techniques </h3></c>\n",
    "Aim:<br>\n",
    "a)To write a program in PYTHON to plot Histogram of an image <br>\n",
    "b)To write a program in PYTHON to stretch Histogram of an image"
   ]
  },
  {
   "cell_type": "markdown",
   "metadata": {},
   "source": [
    "<b>Theory</b><br>\n",
    "Histogram of a digital image with intensity levels in the range of 0 to L-1 is a discrete function<br>\n",
    "h(rk)= nk <br>\n",
    "where rk= kth intensity value<br>\n",
    "and nk= number of pixels in the image with rk intensity value.<br>\n",
    "If the image has M rows and N columnns, then the total number of pixels in the image is MN.<br>\n",
    "The normalized histogram is obtained as follows:<br>\n",
    "p(rk)= nk/MN<br>\n",
    "Sometimes if the image is a dark,light  or low contrast, then the histogram of that image might not have pixels with minimum intensity (0) or maximum intensity(255) or both respectively.<br>\n",
    "\n",
    "In such cases, the histogram of that image can be stretched by applying following transformation.<br>\n",
    "Let a= maximum intensity level in the image<br><br>\n",
    "Let b= minimum intensity level in the image<br>\n",
    "Let rk= pixel value in the original image <br>\n",
    "Let sk= pixel value in the stretched image<br>\n",
    "constant= (255-0)/(a-b)<br>\n",
    "\n",
    "Then <br>\n",
    "sk= constant*rk\n"
   ]
  },
  {
   "cell_type": "code",
   "execution_count": 1,
   "metadata": {},
   "outputs": [],
   "source": [
    "#import cv2, numpy, matplotlib\n",
    "import cv2\n",
    "import numpy as np\n",
    "import matplotlib.pyplot as plt"
   ]
  },
  {
   "cell_type": "code",
   "execution_count": 2,
   "metadata": {},
   "outputs": [],
   "source": [
    "# function to obtain histogram of an image\n",
    "def hist_plot(img):\n",
    "    count=[]                        # empty list to store the count of each intensity value\n",
    "    r= []                           #empty list to store intensity value\n",
    "    for k in range(0,256):          #loop to traverse each intensity value\n",
    "        r.append(k)\n",
    "        count1=0 \n",
    "        for i in range(m):           # loops to traverse each pixel in the image \n",
    "            for j in range(n):\n",
    "                if img[i,j]==k:\n",
    "                    count1+=1\n",
    "        count.append(count1)\n",
    "    return (r,count)\n"
   ]
  },
  {
   "cell_type": "code",
   "execution_count": 3,
   "metadata": {},
   "outputs": [
    {
     "name": "stderr",
     "output_type": "stream",
     "text": [
      "C:\\Anaconda3\\lib\\site-packages\\ipykernel_launcher.py:5: UserWarning: In Matplotlib 3.3 individual lines on a stem plot will be added as a LineCollection instead of individual lines. This significantly improves the performance of a stem plot. To remove this warning and switch to the new behaviour, set the \"use_line_collection\" keyword argument to True.\n",
      "  \"\"\"\n"
     ]
    },
    {
     "data": {
      "text/plain": [
       "Text(0.5, 1.0, 'Histogram of the original image')"
      ]
     },
     "execution_count": 3,
     "metadata": {},
     "output_type": "execute_result"
    },
    {
     "data": {
      "image/png": "[encoded data removed]",
      "text/plain": [
       "<Figure size 432x288 with 1 Axes>"
      ]
     },
     "metadata": {
      "needs_background": "light"
     },
     "output_type": "display_data"
    }
   ],
   "source": [
    "\n",
    "img= cv2.imread('image4.tif',0) # save the image in the same folder as this python file. Else give the path of the image\n",
    "                                    # In imread('image4.tif',0) here 0 stands for grayscale image and 1 stands for colour image\n",
    "m,n= img.shape                      # To ascertain total numbers of rows and columns of the image, size of the image\n",
    "r1,count1= hist_plot(img)\n",
    "plt.stem(r1,count1)                #plotting the histogram\n",
    "plt.xlabel('intensity value')\n",
    "plt.ylabel('number of pixels')\n",
    "plt.title('Histogram of the original image')"
   ]
  },
  {
   "cell_type": "code",
   "execution_count": 5,
   "metadata": {},
   "outputs": [
    {
     "name": "stderr",
     "output_type": "stream",
     "text": [
      "C:\\Anaconda3\\lib\\site-packages\\ipykernel_launcher.py:4: UserWarning: In Matplotlib 3.3 individual lines on a stem plot will be added as a LineCollection instead of individual lines. This significantly improves the performance of a stem plot. To remove this warning and switch to the new behaviour, set the \"use_line_collection\" keyword argument to True.\n",
      "  after removing the cwd from sys.path.\n"
     ]
    },
    {
     "data": {
      "text/plain": [
       "Text(0.5, 1.0, 'Histogram of the stretched image')"
      ]
     },
     "execution_count": 5,
     "metadata": {},
     "output_type": "execute_result"
    },
    {
     "data": {
      "image/png": "[encoded data removed]",
      "text/plain": [
       "<Figure size 432x288 with 1 Axes>"
      ]
     },
     "metadata": {
      "needs_background": "light"
     },
     "output_type": "display_data"
    }
   ],
   "source": [
    "constant= (255-0)/(img.max()-img.min()) #Transformation to obtain stretching\n",
    "img_stretch= img*constant\n",
    "r,count= hist_plot(img_stretch)\n",
    "plt.stem(r,count)                #plotting the histogram\n",
    "plt.xlabel('intensity value')\n",
    "plt.ylabel('number of pixels')\n",
    "plt.title('Histogram of the stretched image')"
   ]
  },
  {
   "cell_type": "code",
   "execution_count": 6,
   "metadata": {},
   "outputs": [
    {
     "data": {
      "text/plain": [
       "True"
      ]
     },
     "execution_count": 6,
     "metadata": {},
     "output_type": "execute_result"
    }
   ],
   "source": [
    "# Storing stretched Image\n",
    "cv2.imwrite('Stretched Image 4.png',img_stretch)"
   ]
  },
  {
   "cell_type": "markdown",
   "metadata": {},
   "source": [
    "<b>Conclusion:</b><br>\n",
    "Histogram of the original image shows that the image is dark as all the pixels have value between 0 to 80. By applying stretching transformation, the histogram is stretched. The effect of the stretching transformation can be seen in the stretched image . \n",
    "\n"
   ]
  }
 ],
 "metadata": {
  "kernelspec": {
   "display_name": "Python 3",
   "language": "python",
   "name": "python3"
  },
  "language_info": {
   "codemirror_mode": {
    "name": "ipython",
    "version": 3
   },
   "file_extension": ".py",
   "mimetype": "text/x-python",
   "name": "python",
   "nbconvert_exporter": "python",
   "pygments_lexer": "ipython3",
   "version": "3.7.6"
  }
 },
 "nbformat": 4,
 "nbformat_minor": 4
}
