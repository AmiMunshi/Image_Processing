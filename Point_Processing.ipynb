{
 "cells": [
  {
   "cell_type": "markdown",
   "metadata": {},
   "source": [
    "<c><h3> Point Processing Techniques </h3></c>\n",
    "Aim:<br>\n",
    "a)\tTo write a program in MATLAB to obtain image negative of an image <br>\n",
    "b)\tTo write a program in MATLAB to obtain thresholding of an image<br>\n",
    "c)\tTo write a program in MATLAB to obtain grey level slicing of an image without background<br>\n",
    "d)\tTo write a program in MATLAB to obtain grey level slicing of an image with background<br>\n"
   ]
  },
  {
   "cell_type": "markdown",
   "metadata": {},
   "source": [
    "<b> Theory:</b> <br>\n",
    "\n",
    "All the processing done on the pixel values. Point processing operations take the form  s = T ( r ) ,T is referred to as a grey level transformation function or a point processing operation, s refers to the processed image pixel value and r refers to the original image pixel value <br>\n",
    "\n",
    "<b>Image Negative</b><br>\n",
    "s = (L-1) – r , where L= number of grey levels<br>\n",
    "\n",
    "<b>Thresholding </b><br>\n",
    "s=L-1 for r > threshold<br>\n",
    "s= 0 for r < threshold<br>\n",
    "\n",
    "<b>Grey level slicing without background</b><br>\n",
    "s= L-1 for a < r < b, here a and b define some specific range of grey level<br>\n",
    "s= 0 otherwise.<br>\n",
    "\n",
    "<b>Grey level slicing with background</b><br>\n",
    "s= L-1 for a < r < b, here a and b define some specific range of grey level<br>\n",
    "s= r otherwise.<br>\n",
    "\n"
   ]
  },
  {
   "cell_type": "code",
   "execution_count": 11,
   "metadata": {},
   "outputs": [],
   "source": [
    "#import cv2 and numpy packages\n",
    "import cv2\n",
    "import numpy as np"
   ]
  },
  {
   "cell_type": "code",
   "execution_count": 2,
   "metadata": {},
   "outputs": [],
   "source": [
    "##Image negative\n",
    "img= cv2.imread('cameraman.png',0) # save the image in the same folder as this python file. Else give the path of the image\n",
    "                                    # In imread('cameraman.png',0) here 0 stands for grayscale image and 1 satnds for colour image\n",
    "\n",
    "m,n= img.shape                      # To ascertain total numbers of rows and columns of the image, size of the image\n",
    "\n",
    "L= img.max()                       # To find the maximum grey level value in the image\n",
    "\n",
    "img_neg= L-img                  # Maximum grey level value  minus the original image gives the negative image\n",
    "\n",
    "cv2.imwrite('Cameraman_Negative.png', img_neg) # convert the np array img_neg to a png image"
   ]
  },
  {
   "cell_type": "code",
   "execution_count": 16,
   "metadata": {},
   "outputs": [
    {
     "name": "stdout",
     "output_type": "stream",
     "text": [
      "Enter the threshold value150\n"
     ]
    },
    {
     "data": {
      "text/plain": [
       "True"
      ]
     },
     "execution_count": 16,
     "metadata": {},
     "output_type": "execute_result"
    }
   ],
   "source": [
    "#Thresholding  \n",
    "# Let threshold =T\n",
    "#Let pixel value in the original be denoted by r\n",
    "#Let pixel value in the new image be denoted by s\n",
    "# If r<T, s= 0\n",
    "#If r>T, s=255\n",
    "\n",
    "T= input('Enter the threshold value') #Ask the threshold value from the user\n",
    "T=int(T)                              # Input is taken as string. Hence convert to int\n",
    "img_thresh= np.zeros((m,n), dtype=int) # create a array of zeros\n",
    "\n",
    "for i in range(m):\n",
    "    for j in range(n):\n",
    "        if img[i,j]< T: \n",
    "            img_thresh[i,j]= 0\n",
    "        else:\n",
    "            img_thresh[i,j] = 255\n",
    "\n",
    "\n",
    "cv2.imwrite('Cameraman_Thresh.png', img_thresh) # Convert array to  png image\n",
    "        \n",
    "        "
   ]
  },
  {
   "cell_type": "code",
   "execution_count": 17,
   "metadata": {},
   "outputs": [
    {
     "name": "stdout",
     "output_type": "stream",
     "text": [
      "Enter the lower threshold value100\n",
      "Enter the upper threshold value180\n"
     ]
    },
    {
     "data": {
      "text/plain": [
       "True"
      ]
     },
     "execution_count": 17,
     "metadata": {},
     "output_type": "execute_result"
    }
   ],
   "source": [
    "#Grey level slicing with background \n",
    "# Let threshold values be  T1 and T2\n",
    "#Let pixel value in the original be denoted by r\n",
    "#Let pixel value in the new image be denoted by s\n",
    "# If T1<r<T2, s= 255\n",
    "#Else s= r\n",
    "\n",
    "T1= input('Enter the lower threshold value') #Ask the lower threshold value from the user\n",
    "T2= input('Enter the upper threshold value') #Ask the upper threshold value from the user\n",
    "T1= int(T1)                              # Input is taken as string. Hence convert to int\n",
    "T2= int(T2)\n",
    "img_thresh_back= np.zeros((m,n), dtype=int) # create a array of zeros\n",
    "\n",
    "for i in range(m):\n",
    "    for j in range(n):\n",
    "        if T1 < img[i,j] < T2: \n",
    "            img_thresh_back[i,j]= 255\n",
    "        else:\n",
    "            img_thresh_back[i,j] = img[i,j]\n",
    "\n",
    "\n",
    "cv2.imwrite('Cameraman_Thresh_Back.png', img_thresh_back) # Convert array to  png image"
   ]
  },
  {
   "cell_type": "code",
   "execution_count": null,
   "metadata": {},
   "outputs": [],
   "source": []
  }
 ],
 "metadata": {
  "kernelspec": {
   "display_name": "Python 3",
   "language": "python",
   "name": "python3"
  },
  "language_info": {
   "codemirror_mode": {
    "name": "ipython",
    "version": 3
   },
   "file_extension": ".py",
   "mimetype": "text/x-python",
   "name": "python",
   "nbconvert_exporter": "python",
   "pygments_lexer": "ipython3",
   "version": "3.7.6"
  }
 },
 "nbformat": 4,
 "nbformat_minor": 4
}
