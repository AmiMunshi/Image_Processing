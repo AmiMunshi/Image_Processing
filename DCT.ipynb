{
  "nbformat": 4,
  "nbformat_minor": 0,
  "metadata": {
    "colab": {
      "name": "DCT.ipynb",
      "provenance": [],
      "authorship_tag": "ABX9TyOZ2CIBuA32lzPrVL8rvlOp",
      "include_colab_link": true
    },
    "kernelspec": {
      "name": "python3",
      "display_name": "Python 3"
    }
  },
  "cells": [
    {
      "cell_type": "markdown",
      "metadata": {
        "id": "view-in-github",
        "colab_type": "text"
      },
      "source": [
        "<a href=\"https://colab.research.google.com/github/AmiMunshi/Image_Processing/blob/master/DCT.ipynb\" target=\"_parent\"><img src=\"https://colab.research.google.com/assets/colab-badge.svg\" alt=\"Open In Colab\"/></a>"
      ]
    },
    {
      "cell_type": "code",
      "metadata": {
        "id": "0TLhjIqyonwO"
      },
      "source": [
        "import numpy as np\n",
        "from scipy.fftpack import dct, idct\n",
        "import random\n",
        "import cv2\n",
        "import matplotlib.pyplot as plt"
      ],
      "execution_count": 1,
      "outputs": []
    },
    {
      "cell_type": "code",
      "metadata": {
        "id": "igGwfaunozAR"
      },
      "source": [
        "#Function to implement 2D DCT and IDCT\n",
        "def dct2(a):\n",
        "    return dct(dct( a, axis=0, norm='ortho' ), axis=1, norm='ortho' )\n",
        "\n",
        "def idct2(a):\n",
        "    return idct(idct( a, axis=0 , norm='ortho'), axis=1 , norm='ortho')"
      ],
      "execution_count": 2,
      "outputs": []
    },
    {
      "cell_type": "markdown",
      "metadata": {
        "id": "DsHDRxHHVHA8"
      },
      "source": [
        "DCT and IDCT on a random matrix"
      ]
    },
    {
      "cell_type": "code",
      "metadata": {
        "id": "DjF9eZGuWGuX",
        "colab": {
          "base_uri": "https://localhost:8080/"
        },
        "outputId": "f011ae6b-d7b0-4882-a1c8-5758762f8e4f"
      },
      "source": [
        "# Generate a random integer matrix of size x X y \n",
        "x=8\n",
        "y=8\n",
        "f= np.random.randint(9,11,size=(x,y))\n",
        "F= dct2(f)\n",
        "print(f)\n",
        "print(F)"
      ],
      "execution_count": 34,
      "outputs": [
        {
          "output_type": "stream",
          "text": [
            "[[ 9  9  9  9  9  9 10  9]\n",
            " [ 9  9 10  9 10 10  9 10]\n",
            " [10 10 10 10  9 10 10  9]\n",
            " [10  9 10  9 10 10 10  9]\n",
            " [10 10 10  9 10  9  9 10]\n",
            " [10  9 10  9  9  9  9 10]\n",
            " [ 9  9  9  9  9  9 10 10]\n",
            " [ 9  9 10 10  9  9  9 10]]\n",
            "[[ 7.56250000e+01 -2.07200694e-01  4.50332945e-01 -4.99937678e-01\n",
            "  -1.25000000e-01  2.05025908e-01  7.60559162e-01  7.76269649e-01]\n",
            " [ 2.41844549e-01  1.06237546e-02 -5.10234084e-01  9.85312071e-01\n",
            "  -7.10370416e-01  2.70965939e-02 -1.64706040e-01  1.07602409e-01]\n",
            " [-1.18287076e+00 -9.61454113e-01 -2.13388348e-01 -7.43830309e-01\n",
            "   6.76495125e-02  3.02642841e-01 -3.38388348e-01 -5.36119338e-01]\n",
            " [-8.83083687e-01 -1.36223777e-01  8.00851213e-01 -9.88713172e-02\n",
            "   4.22594781e-01 -4.20418937e-01 -1.61575497e-01  4.96918893e-01]\n",
            " [-1.25000000e-01  2.37104428e-01 -2.58991229e-01  7.18163394e-02\n",
            "   1.25000000e-01 -1.42851581e-02 -2.98619396e-01  3.54851853e-01]\n",
            " [-4.39721434e-01 -4.66588807e-01  2.71285962e-01  7.86687845e-01\n",
            "  -5.93854907e-01  1.05597810e+00 -8.12294877e-01  4.05529186e-02]\n",
            " [ 8.40640367e-02  8.78860819e-01  1.61611652e-01 -2.51984523e-01\n",
            "  -1.63320371e-01  8.13748022e-01 -3.66116524e-02 -5.19834053e-01]\n",
            " [ 1.75554766e-01  3.14709190e-01  3.40927515e-01 -2.03873289e-01\n",
            "  -1.63168234e-01 -4.50180146e-02 -9.05766626e-01 -4.67730536e-01]]\n"
          ],
          "name": "stdout"
        }
      ]
    },
    {
      "cell_type": "code",
      "metadata": {
        "id": "hqKm3aNwWylr",
        "colab": {
          "base_uri": "https://localhost:8080/"
        },
        "outputId": "8c1987fa-9f29-4e58-8151-3b55dd2d1ae2"
      },
      "source": [
        "#Find Energy of the original image\n",
        "fenergy= np.sum(f**2)\n",
        "print(fenergy)\n"
      ],
      "execution_count": 35,
      "outputs": [
        {
          "output_type": "stream",
          "text": [
            "5735\n"
          ],
          "name": "stdout"
        }
      ]
    },
    {
      "cell_type": "code",
      "metadata": {
        "colab": {
          "base_uri": "https://localhost:8080/"
        },
        "id": "iwLjnBCXwXRU",
        "outputId": "94e41102-4fc6-486f-f374-81c2945661b6"
      },
      "source": [
        "#Find Energy of the DCT of the image\r\n",
        "Fenergy= np.sum(F**2)\r\n",
        "print(Fenergy)"
      ],
      "execution_count": 36,
      "outputs": [
        {
          "output_type": "stream",
          "text": [
            "5735.000000000002\n"
          ],
          "name": "stdout"
        }
      ]
    },
    {
      "cell_type": "code",
      "metadata": {
        "colab": {
          "base_uri": "https://localhost:8080/"
        },
        "id": "MR8ewrR_xXRb",
        "outputId": "1eda5671-0c1a-4371-e5b3-3bad5dddf144"
      },
      "source": [
        "#Energy in the DC coefficient\r\n",
        "F[0,0]**2"
      ],
      "execution_count": 37,
      "outputs": [
        {
          "output_type": "execute_result",
          "data": {
            "text/plain": [
              "5719.140625000002"
            ]
          },
          "metadata": {
            "tags": []
          },
          "execution_count": 37
        }
      ]
    },
    {
      "cell_type": "code",
      "metadata": {
        "id": "yTCIyFHEXCou",
        "colab": {
          "base_uri": "https://localhost:8080/"
        },
        "outputId": "9e0a32c0-6ca7-440e-9c8e-db7041b3a57a"
      },
      "source": [
        "#Retain coefficients with energy more that 0.01% of the Total energy\n",
        "P= 0.0001*Fenergy\n",
        "print(P)"
      ],
      "execution_count": 47,
      "outputs": [
        {
          "output_type": "stream",
          "text": [
            "0.5735000000000002\n"
          ],
          "name": "stdout"
        }
      ]
    },
    {
      "cell_type": "code",
      "metadata": {
        "colab": {
          "base_uri": "https://localhost:8080/"
        },
        "id": "DCh8Qv9ZyRq8",
        "outputId": "71b03458-4038-4a65-cd2d-64c1a47f3369"
      },
      "source": [
        "Fnew= np.where(F**2 > P, F,0)\r\n",
        "print(Fnew)"
      ],
      "execution_count": 48,
      "outputs": [
        {
          "output_type": "stream",
          "text": [
            "[[75.625       0.          0.          0.          0.          0.\n",
            "   0.76055916  0.77626965]\n",
            " [ 0.          0.          0.          0.98531207  0.          0.\n",
            "   0.          0.        ]\n",
            " [-1.18287076 -0.96145411  0.          0.          0.          0.\n",
            "   0.          0.        ]\n",
            " [-0.88308369  0.          0.80085121  0.          0.          0.\n",
            "   0.          0.        ]\n",
            " [ 0.          0.          0.          0.          0.          0.\n",
            "   0.          0.        ]\n",
            " [ 0.          0.          0.          0.78668784  0.          1.0559781\n",
            "  -0.81229488  0.        ]\n",
            " [ 0.          0.87886082  0.          0.          0.          0.81374802\n",
            "   0.          0.        ]\n",
            " [ 0.          0.          0.          0.          0.          0.\n",
            "  -0.90576663  0.        ]]\n"
          ],
          "name": "stdout"
        }
      ]
    },
    {
      "cell_type": "code",
      "metadata": {
        "id": "n1OTA-V7_MA0",
        "colab": {
          "base_uri": "https://localhost:8080/"
        },
        "outputId": "0d8790db-65f8-4c06-cddd-b4544c653c55"
      },
      "source": [
        "# Finding the nonzero values in the compressed matrix\r\n",
        "ind,val= np.unique(Fnew,return_counts=True)\r\n",
        "nonzeros = np.sum(val[np.where(ind!=0)])\r\n",
        "print(nonzeros)"
      ],
      "execution_count": 49,
      "outputs": [
        {
          "output_type": "stream",
          "text": [
            "14\n"
          ],
          "name": "stdout"
        }
      ]
    },
    {
      "cell_type": "code",
      "metadata": {
        "colab": {
          "base_uri": "https://localhost:8080/"
        },
        "id": "h5D022zqFzzf",
        "outputId": "0b7b8136-90cc-429c-f819-b209c1d22e13"
      },
      "source": [
        "#Compression Ratio\r\n",
        "Original = x*y\r\n",
        "Compressed = nonzeros\r\n",
        "CR= Original/Compressed\r\n",
        "print(CR)"
      ],
      "execution_count": 50,
      "outputs": [
        {
          "output_type": "stream",
          "text": [
            "4.571428571428571\n"
          ],
          "name": "stdout"
        }
      ]
    },
    {
      "cell_type": "code",
      "metadata": {
        "colab": {
          "base_uri": "https://localhost:8080/"
        },
        "id": "2e6EyR5mIXrB",
        "outputId": "4c4c83cb-e5b6-45d7-83f7-edd6246c5393"
      },
      "source": [
        "#retrieving the estimate of the original matrix\r\n",
        "fnew= idct2(Fnew)\r\n",
        "fnew= fnew.astype(int)\r\n",
        "print(fnew)"
      ],
      "execution_count": 51,
      "outputs": [
        {
          "output_type": "stream",
          "text": [
            "[[ 9  8  8  8  9  9  9  8]\n",
            " [ 9  9  9  8  9  9  8 10]\n",
            " [10  9  9  9  9  9  9  8]\n",
            " [10  9  9  9  9  9  9  9]\n",
            " [ 9  9  9  9  9  9  9  9]\n",
            " [ 9  9 10  9  8  9  9  9]\n",
            " [ 9  9  9  9  9  9  9  9]\n",
            " [ 8  9 10  9  9  9  9  9]]\n"
          ],
          "name": "stdout"
        }
      ]
    },
    {
      "cell_type": "code",
      "metadata": {
        "id": "k6eUmkUdJdZS",
        "colab": {
          "base_uri": "https://localhost:8080/"
        },
        "outputId": "8f3a9a9f-80a0-414c-99ae-d7549e2068f2"
      },
      "source": [
        "#Obtain Mean Square Error between f and fnew\r\n",
        "mse= np.sum(((f-fnew)**2))/(x*y)\r\n",
        "print(mse)"
      ],
      "execution_count": 52,
      "outputs": [
        {
          "output_type": "stream",
          "text": [
            "0.515625\n"
          ],
          "name": "stdout"
        }
      ]
    },
    {
      "cell_type": "code",
      "metadata": {
        "colab": {
          "base_uri": "https://localhost:8080/"
        },
        "id": "m734yi3D_qfZ",
        "outputId": "fd7f7e5d-6bfc-4f84-b7d9-eabc1d2c09c2"
      },
      "source": [
        "# Retain first row of the transformed matrix\r\n",
        "Fnew1= np.zeros((x,y), dtype =float)\r\n",
        "Fnew1[0,:]= F[0,:]\r\n",
        "print(Fnew1)"
      ],
      "execution_count": 53,
      "outputs": [
        {
          "output_type": "stream",
          "text": [
            "[[75.625      -0.20720069  0.45033294 -0.49993768 -0.125       0.20502591\n",
            "   0.76055916  0.77626965]\n",
            " [ 0.          0.          0.          0.          0.          0.\n",
            "   0.          0.        ]\n",
            " [ 0.          0.          0.          0.          0.          0.\n",
            "   0.          0.        ]\n",
            " [ 0.          0.          0.          0.          0.          0.\n",
            "   0.          0.        ]\n",
            " [ 0.          0.          0.          0.          0.          0.\n",
            "   0.          0.        ]\n",
            " [ 0.          0.          0.          0.          0.          0.\n",
            "   0.          0.        ]\n",
            " [ 0.          0.          0.          0.          0.          0.\n",
            "   0.          0.        ]\n",
            " [ 0.          0.          0.          0.          0.          0.\n",
            "   0.          0.        ]]\n"
          ],
          "name": "stdout"
        }
      ]
    },
    {
      "cell_type": "code",
      "metadata": {
        "colab": {
          "base_uri": "https://localhost:8080/"
        },
        "id": "38x-ScrEAVcq",
        "outputId": "2debc6a0-1f44-4380-f2ce-29941edbcfae"
      },
      "source": [
        "fnew1= idct2(Fnew1)\r\n",
        "fnew1= fnew1.astype(int)\r\n",
        "print(fnew1)"
      ],
      "execution_count": 54,
      "outputs": [
        {
          "output_type": "stream",
          "text": [
            "[[9 9 9 9 9 9 9 9]\n",
            " [9 9 9 9 9 9 9 9]\n",
            " [9 9 9 9 9 9 9 9]\n",
            " [9 9 9 9 9 9 9 9]\n",
            " [9 9 9 9 9 9 9 9]\n",
            " [9 9 9 9 9 9 9 9]\n",
            " [9 9 9 9 9 9 9 9]\n",
            " [9 9 9 9 9 9 9 9]]\n"
          ],
          "name": "stdout"
        }
      ]
    },
    {
      "cell_type": "code",
      "metadata": {
        "colab": {
          "base_uri": "https://localhost:8080/"
        },
        "id": "KnuA1nv7Ao6t",
        "outputId": "d68c6776-a465-4ea7-94ce-343744643905"
      },
      "source": [
        "# Retain first row and first column of the transformed matrix\r\n",
        "Fnew2= np.zeros((x,y), dtype =float)\r\n",
        "Fnew2[0,:]= F[0,:]\r\n",
        "Fnew2[:,0]= F[:,0]\r\n",
        "print(Fnew2)"
      ],
      "execution_count": 55,
      "outputs": [
        {
          "output_type": "stream",
          "text": [
            "[[75.625      -0.20720069  0.45033294 -0.49993768 -0.125       0.20502591\n",
            "   0.76055916  0.77626965]\n",
            " [ 0.24184455  0.          0.          0.          0.          0.\n",
            "   0.          0.        ]\n",
            " [-1.18287076  0.          0.          0.          0.          0.\n",
            "   0.          0.        ]\n",
            " [-0.88308369  0.          0.          0.          0.          0.\n",
            "   0.          0.        ]\n",
            " [-0.125       0.          0.          0.          0.          0.\n",
            "   0.          0.        ]\n",
            " [-0.43972143  0.          0.          0.          0.          0.\n",
            "   0.          0.        ]\n",
            " [ 0.08406404  0.          0.          0.          0.          0.\n",
            "   0.          0.        ]\n",
            " [ 0.17555477  0.          0.          0.          0.          0.\n",
            "   0.          0.        ]]\n"
          ],
          "name": "stdout"
        }
      ]
    },
    {
      "cell_type": "code",
      "metadata": {
        "colab": {
          "base_uri": "https://localhost:8080/"
        },
        "id": "Sme9Ug7gBNSm",
        "outputId": "264c9f8a-5878-4557-b152-0e0512014066"
      },
      "source": [
        "fnew2= idct2(Fnew2)\r\n",
        "fnew2= fnew2.astype(int)\r\n",
        "print(fnew2)"
      ],
      "execution_count": 56,
      "outputs": [
        {
          "output_type": "stream",
          "text": [
            "[[ 9  8  9  8  9  9  9  9]\n",
            " [ 9  9  9  9  9  9  9  9]\n",
            " [ 9  9 10  9  9  9  9  9]\n",
            " [ 9  9  9  9  9  9  9  9]\n",
            " [ 9  9  9  9  9  9  9  9]\n",
            " [ 9  9  9  9  9  9  9  9]\n",
            " [ 9  9  9  9  9  9  9  9]\n",
            " [ 9  9  9  9  9  9  9  9]]\n"
          ],
          "name": "stdout"
        }
      ]
    },
    {
      "cell_type": "code",
      "metadata": {
        "colab": {
          "base_uri": "https://localhost:8080/"
        },
        "id": "JVvV7u2WBhsO",
        "outputId": "44748205-0cb6-4284-9be9-38106e218e0d"
      },
      "source": [
        "#Retain the first four coefficients\r\n",
        "Fnew3= np.zeros((x,y), dtype =float)\r\n",
        "Fnew3[0:2,0:2]= F[0:2,0:2]\r\n",
        "print(Fnew3)"
      ],
      "execution_count": 57,
      "outputs": [
        {
          "output_type": "stream",
          "text": [
            "[[ 7.56250000e+01 -2.07200694e-01  0.00000000e+00  0.00000000e+00\n",
            "   0.00000000e+00  0.00000000e+00  0.00000000e+00  0.00000000e+00]\n",
            " [ 2.41844549e-01  1.06237546e-02  0.00000000e+00  0.00000000e+00\n",
            "   0.00000000e+00  0.00000000e+00  0.00000000e+00  0.00000000e+00]\n",
            " [ 0.00000000e+00  0.00000000e+00  0.00000000e+00  0.00000000e+00\n",
            "   0.00000000e+00  0.00000000e+00  0.00000000e+00  0.00000000e+00]\n",
            " [ 0.00000000e+00  0.00000000e+00  0.00000000e+00  0.00000000e+00\n",
            "   0.00000000e+00  0.00000000e+00  0.00000000e+00  0.00000000e+00]\n",
            " [ 0.00000000e+00  0.00000000e+00  0.00000000e+00  0.00000000e+00\n",
            "   0.00000000e+00  0.00000000e+00  0.00000000e+00  0.00000000e+00]\n",
            " [ 0.00000000e+00  0.00000000e+00  0.00000000e+00  0.00000000e+00\n",
            "   0.00000000e+00  0.00000000e+00  0.00000000e+00  0.00000000e+00]\n",
            " [ 0.00000000e+00  0.00000000e+00  0.00000000e+00  0.00000000e+00\n",
            "   0.00000000e+00  0.00000000e+00  0.00000000e+00  0.00000000e+00]\n",
            " [ 0.00000000e+00  0.00000000e+00  0.00000000e+00  0.00000000e+00\n",
            "   0.00000000e+00  0.00000000e+00  0.00000000e+00  0.00000000e+00]]\n"
          ],
          "name": "stdout"
        }
      ]
    },
    {
      "cell_type": "code",
      "metadata": {
        "colab": {
          "base_uri": "https://localhost:8080/"
        },
        "id": "gzdbWb75B_Lb",
        "outputId": "7ac44999-da41-4dfb-879b-f395ef910713"
      },
      "source": [
        "fnew3= idct2(Fnew3)\r\n",
        "fnew3= fnew3.astype(int)\r\n",
        "print(fnew3)"
      ],
      "execution_count": 60,
      "outputs": [
        {
          "output_type": "stream",
          "text": [
            "[[9 9 9 9 9 9 9 9]\n",
            " [9 9 9 9 9 9 9 9]\n",
            " [9 9 9 9 9 9 9 9]\n",
            " [9 9 9 9 9 9 9 9]\n",
            " [9 9 9 9 9 9 9 9]\n",
            " [9 9 9 9 9 9 9 9]\n",
            " [9 9 9 9 9 9 9 9]\n",
            " [9 9 9 9 9 9 9 9]]\n"
          ],
          "name": "stdout"
        }
      ]
    },
    {
      "cell_type": "markdown",
      "metadata": {
        "id": "MdCpVTh3Voku"
      },
      "source": [
        "DCT on image with and without compression"
      ]
    },
    {
      "cell_type": "code",
      "metadata": {
        "id": "aVk9QixGfTH-",
        "colab": {
          "base_uri": "https://localhost:8080/"
        },
        "outputId": "f88bd2db-91b8-4109-fd67-e0a12ab0d886"
      },
      "source": [
        "img = cv2.imread('/content/lena_gray_256.tif',0)  # Read the image\n",
        "m,n= img.shape #Find and store size of image in m,n\n",
        "print(m,n)"
      ],
      "execution_count": 3,
      "outputs": [
        {
          "output_type": "stream",
          "text": [
            "256 256\n"
          ],
          "name": "stdout"
        }
      ]
    },
    {
      "cell_type": "code",
      "metadata": {
        "id": "46ddTl4vgXOx",
        "colab": {
          "base_uri": "https://localhost:8080/",
          "height": 286
        },
        "outputId": "14b58e02-e002-4077-9862-189c2d338ac3"
      },
      "source": [
        "#Find DCT of the given image using DCT function \n",
        "N=8 #Size of the block\n",
        "imgdct = np.zeros((m,n), dtype=int)\n",
        "for row in range(m//N):\n",
        "        for col in range(n//N):\n",
        "               imgdct[row*N:(row+1)*N,col*N:(col+1)*N]= dct2(img[row*N:(row+1)*N,col*N:(col+1)*N])\n",
        "plt.imshow(imgdct, cmap=\"gray\")\n"
      ],
      "execution_count": 5,
      "outputs": [
        {
          "output_type": "execute_result",
          "data": {
            "text/plain": [
              "<matplotlib.image.AxesImage at 0x7f703d76a890>"
            ]
          },
          "metadata": {
            "tags": []
          },
          "execution_count": 5
        },
        {
          "output_type": "display_data",
          "data": {
            "image/png": "[encoded data removed]",
            "text/plain": [
              "<Figure size 432x288 with 1 Axes>"
            ]
          },
          "metadata": {
            "tags": [],
            "needs_background": "light"
          }
        }
      ]
    },
    {
      "cell_type": "code",
      "metadata": {
        "colab": {
          "base_uri": "https://localhost:8080/"
        },
        "id": "PurVk0b_0Znm",
        "outputId": "3ae2f2bc-6e87-400c-c58e-5dde1159464f"
      },
      "source": [
        "#Total energy of the image\r\n",
        "energy= np.sum(img**2)\r\n",
        "print(energy)"
      ],
      "execution_count": 6,
      "outputs": [
        {
          "output_type": "stream",
          "text": [
            "6941402\n"
          ],
          "name": "stdout"
        }
      ]
    },
    {
      "cell_type": "code",
      "metadata": {
        "id": "30UGYH4Ju-Fw"
      },
      "source": [
        "#For compression, retaining only P percent coefficients with max magnitude. \n",
        "P= 0.0001*energy\n",
        "Inew= np.where(imgdct**2 > P, imgdct,0)\n"
      ],
      "execution_count": 25,
      "outputs": []
    },
    {
      "cell_type": "code",
      "metadata": {
        "id": "9pHyIHazCWfZ",
        "colab": {
          "base_uri": "https://localhost:8080/"
        },
        "outputId": "6bd34bbc-2edc-48b0-9892-0f02f9187152"
      },
      "source": [
        "# Finding the nonzero values in the compressed matrix\n",
        "ind,val= np.unique(Inew,return_counts=True)\n",
        "nonzeros = np.sum(val[np.where(ind!=0)])\n",
        "print(nonzeros)"
      ],
      "execution_count": 26,
      "outputs": [
        {
          "output_type": "stream",
          "text": [
            "5585\n"
          ],
          "name": "stdout"
        }
      ]
    },
    {
      "cell_type": "code",
      "metadata": {
        "id": "_UCtNsqiXZyG",
        "colab": {
          "base_uri": "https://localhost:8080/"
        },
        "outputId": "8c40f20a-83ae-47b2-f5ed-ac0c39b41578"
      },
      "source": [
        "#finding nonzero values in the compressed matrix\n",
        "nonzeros= np.sum([Inew!=0])\n",
        "print(nonzeros)"
      ],
      "execution_count": 27,
      "outputs": [
        {
          "output_type": "stream",
          "text": [
            "5585\n"
          ],
          "name": "stdout"
        }
      ]
    },
    {
      "cell_type": "code",
      "metadata": {
        "id": "CVnNzYyjCppH",
        "colab": {
          "base_uri": "https://localhost:8080/"
        },
        "outputId": "39e115cc-cf8d-45ef-ca11-cf9994bf0ec4"
      },
      "source": [
        "#Compression Ratio\n",
        "CR= (m*n)/nonzeros\n",
        "print(\"total Coefficient in the inpur image is \", m*n)\n",
        "print(\"total coefficients retained in the output image is \", nonzeros)\n",
        "print(\"compression ratio = input size/output size = \", CR)"
      ],
      "execution_count": 32,
      "outputs": [
        {
          "output_type": "stream",
          "text": [
            "total Coefficient in the inpur image is  65536\n",
            "total coefficients retained in the output image is  5585\n",
            "compression ratio = input size/output size =  11.734288272157565\n"
          ],
          "name": "stdout"
        }
      ]
    },
    {
      "cell_type": "code",
      "metadata": {
        "id": "aYUz0U2O83Ti"
      },
      "source": [
        "#Find IDCT of the given image  using IDCT function\r\n",
        "inew = np.zeros((m,n), dtype=int)\r\n",
        "for row in range(m//N):\r\n",
        "        for col in range(n//N):\r\n",
        "\r\n",
        "               inew[row*N:(row+1)*N,col*N:(col+1)*N]= idct2(Inew[row*N:(row+1)*N,col*N:(col+1)*N])\r\n"
      ],
      "execution_count": 29,
      "outputs": []
    },
    {
      "cell_type": "code",
      "metadata": {
        "id": "iKdJPa_a8u79",
        "colab": {
          "base_uri": "https://localhost:8080/",
          "height": 286
        },
        "outputId": "74d048fd-4c54-4f3d-8e2a-8ecb12b5bd4d"
      },
      "source": [
        "plt.imshow(inew,cmap=\"gray\")"
      ],
      "execution_count": 30,
      "outputs": [
        {
          "output_type": "execute_result",
          "data": {
            "text/plain": [
              "<matplotlib.image.AxesImage at 0x7f703d0ea610>"
            ]
          },
          "metadata": {
            "tags": []
          },
          "execution_count": 30
        },
        {
          "output_type": "display_data",
          "data": {
            "image/png": "[encoded data removed]",
            "text/plain": [
              "<Figure size 432x288 with 1 Axes>"
            ]
          },
          "metadata": {
            "tags": [],
            "needs_background": "light"
          }
        }
      ]
    },
    {
      "cell_type": "code",
      "metadata": {
        "id": "dkqTe4zQMC9h"
      },
      "source": [
        ""
      ],
      "execution_count": null,
      "outputs": []
    }
  ]
}