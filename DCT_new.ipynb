{
  "nbformat": 4,
  "nbformat_minor": 0,
  "metadata": {
    "colab": {
      "name": "DCT_new.ipynb",
      "provenance": [],
      "authorship_tag": "ABX9TyMuCMzNEtaO4yNZW+g7uAM4",
      "include_colab_link": true
    },
    "kernelspec": {
      "name": "python3",
      "display_name": "Python 3"
    },
    "language_info": {
      "name": "python"
    }
  },
  "cells": [
    {
      "cell_type": "markdown",
      "metadata": {
        "id": "view-in-github",
        "colab_type": "text"
      },
      "source": [
        "<a href=\"https://colab.research.google.com/github/AmiMunshi/Image_Processing/blob/master/DCT_new.ipynb\" target=\"_parent\"><img src=\"https://colab.research.google.com/assets/colab-badge.svg\" alt=\"Open In Colab\"/></a>"
      ]
    },
    {
      "cell_type": "code",
      "metadata": {
        "id": "TvfSm0b2RP3C"
      },
      "source": [
        "import numpy as np\n",
        "from scipy.fftpack import dct, idct\n",
        "import random\n",
        "import cv2\n",
        "import matplotlib.pyplot as plt"
      ],
      "execution_count": 1,
      "outputs": []
    },
    {
      "cell_type": "code",
      "metadata": {
        "id": "Ov0iJu32SsBU"
      },
      "source": [
        "#Applying \n",
        "a= [4, 3,2,1]\n",
        "A= dct(a, axis=0, norm= \"ortho\")"
      ],
      "execution_count": null,
      "outputs": []
    },
    {
      "cell_type": "code",
      "metadata": {
        "colab": {
          "base_uri": "https://localhost:8080/"
        },
        "id": "AMKXmq_yTssh",
        "outputId": "790c31dd-8095-41ab-d113-6d3792d19070"
      },
      "source": [
        "aest = idct(A, axis=0, norm=\"ortho\")\n",
        "print(aest)"
      ],
      "execution_count": null,
      "outputs": [
        {
          "output_type": "stream",
          "name": "stdout",
          "text": [
            "[4. 3. 2. 1.]\n"
          ]
        }
      ]
    },
    {
      "cell_type": "code",
      "metadata": {
        "id": "9wYyloPTTFtP"
      },
      "source": [
        "#Function to implement 2D DCT and IDCT\n",
        "def dct2(a):\n",
        "  return dct(dct(a, axis=0, norm= \"ortho\"), axis= 1, norm=\"ortho\")\n",
        "\n",
        "def idct2(a):\n",
        "  return idct(idct(a, axis=0, norm=\"ortho\"), axis=1, norm=\"ortho\")\n",
        "\n"
      ],
      "execution_count": 2,
      "outputs": []
    },
    {
      "cell_type": "code",
      "metadata": {
        "colab": {
          "base_uri": "https://localhost:8080/"
        },
        "id": "rAW89obDWoAM",
        "outputId": "46d880c4-35bf-4605-a8dd-77bebccb2ce9"
      },
      "source": [
        "# DCT and IDCT example on a random matrix\n",
        "#Generate a random integer matrix of size x X y\n",
        "\n",
        "f= np.random.randint(7,11, size=(8,8))\n",
        "print(f)\n",
        "F= dct2(f)\n",
        "print(F)"
      ],
      "execution_count": null,
      "outputs": [
        {
          "output_type": "stream",
          "name": "stdout",
          "text": [
            "[[10  8 10  7  7  7 10  9]\n",
            " [ 8  7  8  8  9 10  8  7]\n",
            " [ 8  8  7 10 10  7 10 10]\n",
            " [ 7  8  9 10 10  9  9  7]\n",
            " [10  7 10  8  7  9 10 10]\n",
            " [ 8  7  9  8 10  9  9  9]\n",
            " [ 8  8 10  9  9  9  7  8]\n",
            " [ 8  8  9  9  8  9  8  8]]\n",
            "[[ 6.83750000e+01 -1.38307630e+00 -1.26212710e+00 -2.24038298e-01\n",
            "   1.25000000e-01  1.59206575e+00  1.19928529e+00  1.56196461e+00]\n",
            " [-2.38336345e-01 -3.72767452e-01  1.43383216e+00  4.81446997e-01\n",
            "   1.70694918e-01  7.93630470e-01 -1.38208547e+00  7.82822771e-01]\n",
            " [-1.22249893e+00  1.52629322e+00  8.25825215e-01 -6.69267622e-02\n",
            "  -7.04516471e-01 -3.36463555e-01  7.74048519e-01 -1.38820787e-01]\n",
            " [ 2.73490476e-01  3.06284951e-01  2.39414888e+00 -1.55253894e-01\n",
            "  -9.79396931e-01  5.61891776e-01  2.11222556e+00  1.66641308e+00]\n",
            " [ 3.75000000e-01  8.89667502e-01  1.70085322e+00 -8.48031057e-01\n",
            "  -1.37500000e+00  1.54875493e+00  5.13174755e-01  1.67908355e-01]\n",
            " [ 3.58870334e-01  8.94247094e-01 -1.13047163e+00 -1.17554509e+00\n",
            "   2.47605223e-01 -5.21522802e-01 -1.19560718e+00  4.09838341e-01]\n",
            " [ 6.41674661e-01 -1.23181405e+00  1.52404852e+00 -8.31596316e-01\n",
            "   1.23891345e+00  1.48678688e-01 -1.82582521e+00  8.23071832e-01]\n",
            " [ 8.22867443e-01  4.53859037e-02  2.95645936e+00 -1.39718386e+00\n",
            "   7.98646699e-01  9.20786826e-01  1.32002855e-01  4.95441473e-02]]\n"
          ]
        }
      ]
    },
    {
      "cell_type": "code",
      "metadata": {
        "colab": {
          "base_uri": "https://localhost:8080/"
        },
        "id": "gbPtxqhOXK-_",
        "outputId": "6e21aae7-e201-4176-9172-4653939f1e4a"
      },
      "source": [
        "fest= idct2(F)\n",
        "print(fest)"
      ],
      "execution_count": null,
      "outputs": [
        {
          "output_type": "stream",
          "name": "stdout",
          "text": [
            "[[10.  8. 10.  7.  7.  7. 10.  9.]\n",
            " [ 8.  7.  8.  8.  9. 10.  8.  7.]\n",
            " [ 8.  8.  7. 10. 10.  7. 10. 10.]\n",
            " [ 7.  8.  9. 10. 10.  9.  9.  7.]\n",
            " [10.  7. 10.  8.  7.  9. 10. 10.]\n",
            " [ 8.  7.  9.  8. 10.  9.  9.  9.]\n",
            " [ 8.  8. 10.  9.  9.  9.  7.  8.]\n",
            " [ 8.  8.  9.  9.  8.  9.  8.  8.]]\n"
          ]
        }
      ]
    },
    {
      "cell_type": "code",
      "metadata": {
        "colab": {
          "base_uri": "https://localhost:8080/"
        },
        "id": "MVY-tVxmXsCo",
        "outputId": "c1eda21b-ce89-45a1-8de5-0398b1f7e88c"
      },
      "source": [
        "#Find Energy of DCT of the image\n",
        "fenergy= np.sum(f**2)\n",
        "print(fenergy)\n",
        "Fenergy= np.sum(F**2)\n",
        "print(Fenergy)"
      ],
      "execution_count": null,
      "outputs": [
        {
          "output_type": "stream",
          "name": "stdout",
          "text": [
            "4749\n",
            "4749.000000000001\n"
          ]
        }
      ]
    },
    {
      "cell_type": "code",
      "metadata": {
        "colab": {
          "base_uri": "https://localhost:8080/"
        },
        "id": "Vj098thHYaM1",
        "outputId": "1ea584de-f222-4cf0-b736-7c1d373ed426"
      },
      "source": [
        "#Find energy in the dc coefficient\n",
        "F[0,0]**2\n"
      ],
      "execution_count": null,
      "outputs": [
        {
          "output_type": "execute_result",
          "data": {
            "text/plain": [
              "4675.140625000002"
            ]
          },
          "metadata": {},
          "execution_count": 17
        }
      ]
    },
    {
      "cell_type": "code",
      "metadata": {
        "colab": {
          "base_uri": "https://localhost:8080/"
        },
        "id": "JAmMp4FkYxQK",
        "outputId": "ffce8be4-f484-440c-867f-ebffeefdd83f"
      },
      "source": [
        "# Retain coefficients with energy more than 1% of the total energy\n",
        "P= 0.01*Fenergy\n",
        "print(P)"
      ],
      "execution_count": null,
      "outputs": [
        {
          "output_type": "stream",
          "name": "stdout",
          "text": [
            "47.49000000000001\n"
          ]
        }
      ]
    },
    {
      "cell_type": "code",
      "metadata": {
        "colab": {
          "base_uri": "https://localhost:8080/"
        },
        "id": "oxFEVyS0ZbOL",
        "outputId": "2d5de5bd-7c8a-474c-9f24-a6131ad2c7d9"
      },
      "source": [
        "Fnew=  np.where(F**2 >P, F, 0)\n",
        "print(Fnew)"
      ],
      "execution_count": null,
      "outputs": [
        {
          "output_type": "stream",
          "name": "stdout",
          "text": [
            "[[68.375  0.     0.     0.     0.     0.     0.     0.   ]\n",
            " [ 0.     0.     0.     0.     0.     0.     0.     0.   ]\n",
            " [ 0.     0.     0.     0.     0.     0.     0.     0.   ]\n",
            " [ 0.     0.     0.     0.     0.     0.     0.     0.   ]\n",
            " [ 0.     0.     0.     0.     0.     0.     0.     0.   ]\n",
            " [ 0.     0.     0.     0.     0.     0.     0.     0.   ]\n",
            " [ 0.     0.     0.     0.     0.     0.     0.     0.   ]\n",
            " [ 0.     0.     0.     0.     0.     0.     0.     0.   ]]\n"
          ]
        }
      ]
    },
    {
      "cell_type": "code",
      "metadata": {
        "colab": {
          "base_uri": "https://localhost:8080/"
        },
        "id": "Hn5uaj5kZ3jS",
        "outputId": "c84358de-9ed8-4015-ada5-1e5f7019e05d"
      },
      "source": [
        "#Finding the nonzero values in the Fnew matrix\n",
        "\n",
        "ind,val= np.unique(Fnew, return_counts=True)\n",
        "nonzeros= np.sum(val[np.where(ind!=0)])\n",
        "print(nonzeros)"
      ],
      "execution_count": null,
      "outputs": [
        {
          "output_type": "stream",
          "name": "stdout",
          "text": [
            "1\n"
          ]
        }
      ]
    },
    {
      "cell_type": "code",
      "metadata": {
        "colab": {
          "base_uri": "https://localhost:8080/"
        },
        "id": "kR6AvQ1wbH_8",
        "outputId": "44268244-768a-41ca-ac64-cc87f8af1464"
      },
      "source": [
        "#Compression ration\n",
        "x=8\n",
        "y=8\n",
        "CompressionRatio= x*y/nonzeros\n",
        "print(CompressionRatio)"
      ],
      "execution_count": null,
      "outputs": [
        {
          "output_type": "stream",
          "name": "stdout",
          "text": [
            "64.0\n"
          ]
        }
      ]
    },
    {
      "cell_type": "code",
      "metadata": {
        "colab": {
          "base_uri": "https://localhost:8080/"
        },
        "id": "aaeF_LiHb-kb",
        "outputId": "82a6c755-1be0-43e2-c4b3-ed919efb18ee"
      },
      "source": [
        "#retrieving the estimated matrix of the original matrix\n",
        "\n",
        "fest= idct2(F)\n",
        "print(fest)\n"
      ],
      "execution_count": null,
      "outputs": [
        {
          "output_type": "stream",
          "name": "stdout",
          "text": [
            "[[10.  8. 10.  7.  7.  7. 10.  9.]\n",
            " [ 8.  7.  8.  8.  9. 10.  8.  7.]\n",
            " [ 8.  8.  7. 10. 10.  7. 10. 10.]\n",
            " [ 7.  8.  9. 10. 10.  9.  9.  7.]\n",
            " [10.  7. 10.  8.  7.  9. 10. 10.]\n",
            " [ 8.  7.  9.  8. 10.  9.  9.  9.]\n",
            " [ 8.  8. 10.  9.  9.  9.  7.  8.]\n",
            " [ 8.  8.  9.  9.  8.  9.  8.  8.]]\n"
          ]
        }
      ]
    },
    {
      "cell_type": "code",
      "metadata": {
        "colab": {
          "base_uri": "https://localhost:8080/"
        },
        "id": "Yu1dwGMmcY4C",
        "outputId": "bd2db4ef-73b2-474c-c192-68bcfdc91151"
      },
      "source": [
        "#Obtain Mean square error\n",
        "mse= np.sum((f-fest)**2)/(x*y)\n",
        "print(mse)"
      ],
      "execution_count": null,
      "outputs": [
        {
          "output_type": "stream",
          "name": "stdout",
          "text": [
            "9.133530168262027e-30\n"
          ]
        }
      ]
    },
    {
      "cell_type": "code",
      "metadata": {
        "colab": {
          "base_uri": "https://localhost:8080/"
        },
        "id": "dmmQ18VBdOtq",
        "outputId": "f1b9c9b5-7a98-4d57-e11b-d06b57191e1f"
      },
      "source": [
        "#Retain first row and first column\n",
        "Fnew2= np.zeros((x,y), dtype=\"float\")\n",
        "Fnew2[0,:]= F[0,:]\n",
        "Fnew2[:,0]=F[:,0]\n",
        "print(Fnew2)"
      ],
      "execution_count": null,
      "outputs": [
        {
          "output_type": "stream",
          "name": "stdout",
          "text": [
            "[[68.375      -1.3830763  -1.2621271  -0.2240383   0.125       1.59206575\n",
            "   1.19928529  1.56196461]\n",
            " [-0.23833635  0.          0.          0.          0.          0.\n",
            "   0.          0.        ]\n",
            " [-1.22249893  0.          0.          0.          0.          0.\n",
            "   0.          0.        ]\n",
            " [ 0.27349048  0.          0.          0.          0.          0.\n",
            "   0.          0.        ]\n",
            " [ 0.375       0.          0.          0.          0.          0.\n",
            "   0.          0.        ]\n",
            " [ 0.35887033  0.          0.          0.          0.          0.\n",
            "   0.          0.        ]\n",
            " [ 0.64167466  0.          0.          0.          0.          0.\n",
            "   0.          0.        ]\n",
            " [ 0.82286744  0.          0.          0.          0.          0.\n",
            "   0.          0.        ]]\n"
          ]
        }
      ]
    },
    {
      "cell_type": "code",
      "metadata": {
        "colab": {
          "base_uri": "https://localhost:8080/"
        },
        "id": "MpR2KjgPexf4",
        "outputId": "7a46e428-4807-4d56-eeb5-4b83d2f06054"
      },
      "source": [
        "#Retain only the first four coeffients\n",
        "Fnew3= np.zeros((x,y), dtype=\"float\")\n",
        "Fnew3[0:2,0:2]= F[0:2,0:2]\n",
        "print(Fnew3)"
      ],
      "execution_count": null,
      "outputs": [
        {
          "output_type": "stream",
          "name": "stdout",
          "text": [
            "[[68.375      -1.3830763   0.          0.          0.          0.\n",
            "   0.          0.        ]\n",
            " [-0.23833635 -0.37276745  0.          0.          0.          0.\n",
            "   0.          0.        ]\n",
            " [ 0.          0.          0.          0.          0.          0.\n",
            "   0.          0.        ]\n",
            " [ 0.          0.          0.          0.          0.          0.\n",
            "   0.          0.        ]\n",
            " [ 0.          0.          0.          0.          0.          0.\n",
            "   0.          0.        ]\n",
            " [ 0.          0.          0.          0.          0.          0.\n",
            "   0.          0.        ]\n",
            " [ 0.          0.          0.          0.          0.          0.\n",
            "   0.          0.        ]\n",
            " [ 0.          0.          0.          0.          0.          0.\n",
            "   0.          0.        ]]\n"
          ]
        }
      ]
    },
    {
      "cell_type": "code",
      "metadata": {
        "id": "Mu0FtRvIfhjF"
      },
      "source": [
        "img= cv2.imread(\"/content/Lena.tif\",0) #Read the image\n",
        "m,n= img.shape\n"
      ],
      "execution_count": 3,
      "outputs": []
    },
    {
      "cell_type": "code",
      "metadata": {
        "colab": {
          "base_uri": "https://localhost:8080/",
          "height": 286
        },
        "id": "YXJdetYUgn-m",
        "outputId": "64948877-1311-41ca-f4d6-96aed99ea23d"
      },
      "source": [
        "#Find DCT of the given image using dct2 function\n",
        "#Apply dct2 function on 8x8 blocks\n",
        "\n",
        "N=8\n",
        "\n",
        "imgdct= np.zeros((m,n), dtype=int) #creating a matrix to store the dct coefficients of the image\n",
        "\n",
        "for row in range(0,m//N):\n",
        "  for col in range(0, n//N):\n",
        "    imgdct[row*N: (row+1)*N, col*N:(col+1)*N]= dct2(img[row*N: (row+1)*N, col*N:(col+1)*N])\n",
        "plt.imshow(imgdct,cmap= \"gray\")"
      ],
      "execution_count": 4,
      "outputs": [
        {
          "output_type": "execute_result",
          "data": {
            "text/plain": [
              "<matplotlib.image.AxesImage at 0x7f813907cf50>"
            ]
          },
          "metadata": {},
          "execution_count": 4
        },
        {
          "output_type": "display_data",
          "data": {
            "image/png": "[encoded data removed]",
            "text/plain": [
              "<Figure size 432x288 with 1 Axes>"
            ]
          },
          "metadata": {
            "needs_background": "light"
          }
        }
      ]
    },
    {
      "cell_type": "code",
      "metadata": {
        "colab": {
          "base_uri": "https://localhost:8080/"
        },
        "id": "LgdXRUFYkDof",
        "outputId": "707e31b6-8050-42f7-fc56-ebb88c19ca29"
      },
      "source": [
        "#For compression, retaining coefficients haveing P energy\n",
        "#Retaining coefficients having 1% of the total energy\n",
        "energy= np.sum(img**2)  #Total energy of the image\n",
        "#print(energy)\n",
        "\n",
        "P= 0.001*energy\n",
        "#print(P)\n",
        "\n",
        "Inew= np.where(imgdct**2>P, imgdct, 0) # retaining coefficients having more than P energy\n",
        "\n",
        "#Finding the nonzero values in the Inew matrix\n",
        "ind,val= np.unique(Inew, return_counts=True)\n",
        "nonzeros= np.sum(val[np.where(ind!=0)])\n",
        "print(nonzeros)\n"
      ],
      "execution_count": 21,
      "outputs": [
        {
          "output_type": "stream",
          "name": "stdout",
          "text": [
            "4520\n"
          ]
        }
      ]
    },
    {
      "cell_type": "code",
      "metadata": {
        "colab": {
          "base_uri": "https://localhost:8080/"
        },
        "id": "IzdqwrkllVpX",
        "outputId": "1c95b7d2-761b-4201-afcb-e25ef69ac9b3"
      },
      "source": [
        "#Total coefficients in the original image\n",
        "Total_coef= m*n\n",
        "print(Total_coef)\n"
      ],
      "execution_count": 22,
      "outputs": [
        {
          "output_type": "stream",
          "name": "stdout",
          "text": [
            "262144\n"
          ]
        }
      ]
    },
    {
      "cell_type": "code",
      "metadata": {
        "colab": {
          "base_uri": "https://localhost:8080/"
        },
        "id": "CyQFH3MZmw9y",
        "outputId": "0fad51a4-2c80-4432-9873-f0059c53499f"
      },
      "source": [
        "CR= Total_coef/nonzeros\n",
        "print(CR)"
      ],
      "execution_count": 23,
      "outputs": [
        {
          "output_type": "stream",
          "name": "stdout",
          "text": [
            "57.99646017699115\n"
          ]
        }
      ]
    },
    {
      "cell_type": "code",
      "metadata": {
        "id": "nNxsKuEDmp6r"
      },
      "source": [
        "#Find IDCT of the imgdct matrix to obtain using idct2 function\n",
        "\n",
        "imgnew= np.zeros((m,n),dtype=int)\n",
        "for row in range(0,m//N):\n",
        "  for col in range(0, n//N):\n",
        "    imgnew[row*N: (row+1)*N, col*N:(col+1)*N]= idct2(Inew[row*N: (row+1)*N, col*N:(col+1)*N])\n"
      ],
      "execution_count": 24,
      "outputs": []
    },
    {
      "cell_type": "code",
      "metadata": {
        "colab": {
          "base_uri": "https://localhost:8080/",
          "height": 233
        },
        "id": "acvhwZYgnmQM",
        "outputId": "92caf003-ebcf-4ef4-8263-b11c55d2b7ad"
      },
      "source": [
        "#Plotting the original and reconstructed image\n",
        "plt.subplot(1,2,1)\n",
        "plt.imshow(img,cmap=\"gray\")\n",
        "plt.title(\"Original image\")\n",
        "plt.subplot(1,2,2)\n",
        "plt.imshow(imgnew,cmap=\"gray\")\n",
        "plt.title(\"Reconstructed image after compression\")\n"
      ],
      "execution_count": 25,
      "outputs": [
        {
          "output_type": "execute_result",
          "data": {
            "text/plain": [
              "Text(0.5, 1.0, 'Reconstructed image after compression')"
            ]
          },
          "metadata": {},
          "execution_count": 25
        },
        {
          "output_type": "display_data",
          "data": {
            "image/png": "[encoded data removed]",
            "text/plain": [
              "<Figure size 432x288 with 2 Axes>"
            ]
          },
          "metadata": {
            "needs_background": "light"
          }
        }
      ]
    },
    {
      "cell_type": "code",
      "metadata": {
        "id": "UDtwHcW6oRUB"
      },
      "source": [
        ""
      ],
      "execution_count": null,
      "outputs": []
    }
  ]
}