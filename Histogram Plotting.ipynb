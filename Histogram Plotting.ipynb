{
 "cells": [
  {
   "cell_type": "markdown",
   "metadata": {},
   "source": [
    "<c><h3> Histogram Processing Techniques </h3></c>\n",
    "Aim:<br>\n",
    "a)To write a program in PYTHON to plot Histogram of an image <br>\n",
    
   ]
  },
  {
   "cell_type": "markdown",
   "metadata": {},
   "source": [
    "<b>Theory</b><br>\n",
    "Histogram of a digital image with intensity levels in the range of 0 to L-1 is a discrete function<br>\n",
    "h(rk)= nk <br>\n",
    "where rk= kth intensity value<br>\n",
    "and nk= number of pixels in the image with rk intensity value.<br>\n",
    "If the image has M rows and N columnns, then the total number of pixels in the image is MN.<br>\n",
    "The normalized histogram is obtained as follows:<br>\n",
    "p(rk)= nk/MN"
   ]
  },
  {
   "cell_type": "code",
   "execution_count": 34,
   "metadata": {},
   "outputs": [],
   "source": [
    "#import cv2, numpy, matplotlib\n",
    "import cv2\n",
    "import numpy as np\n",
    "import matplotlib.pyplot as plt"
   ]
  },
  {
   "cell_type": "code",
   "execution_count": 56,
   "metadata": {},
   "outputs": [],
   "source": [
    "# program to obtain histogram of an image\n",
    "img= cv2.imread('cameraman.png',0) # save the image in the same folder as this python file. Else give the path of the image\n",
    "                                    # In imread('cameraman.png',0) here 0 stands for grayscale image and 1 stands for colour image\n",
    "m,n= img.shape                      # To ascertain total numbers of rows and columns of the image, size of the image\n"
   ]
  },
  {
   "cell_type": "code",
   "execution_count": 57,
   "metadata": {},
   "outputs": [
    {
     "name": "stderr",
     "output_type": "stream",
     "text": [
      "C:\\Anaconda3\\lib\\site-packages\\ipykernel_launcher.py:11: UserWarning: In Matplotlib 3.3 individual lines on a stem plot will be added as a LineCollection instead of individual lines. This significantly improves the performance of a stem plot. To remove this warning and switch to the new behaviour, set the \"use_line_collection\" keyword argument to True.\n",
      "  # This is added back by InteractiveShellApp.init_path()\n"
     ]
    },
    {
     "data": {
      "text/plain": [
       "Text(0.5, 1.0, 'Histogram')"
      ]
     },
     "execution_count": 57,
     "metadata": {},
     "output_type": "execute_result"
    },
    {
     "data": {
      "image/png": "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\n",
      "text/plain": [
       "<Figure size 432x288 with 1 Axes>"
      ]
     },
     "metadata": {
      "needs_background": "light"
     },
     "output_type": "display_data"
    }
   ],
   "source": [
    "count=[]                        # empty list to store the count of each intensity value\n",
    "r= []                           #empty list to store intensity value\n",
    "for k in range(0,256):          #loop to traverse each intensity value\n",
    "    r.append(k)\n",
    "    count1=0 \n",
    "    for i in range(m):           # loops to traverse each pixel in the image \n",
    "        for j in range(n):\n",
    "            if img[i,j]==k:\n",
    "                count1+=1\n",
    "    count.append(count1)\n",
    "plt.stem(r,count)                #plotting the histogram\n",
    "plt.xlabel('intensity value')\n",
    "plt.ylabel('number of pixels')\n",
    "plt.title('Histogram')"
   ]
  }
 ],
 "metadata": {
  "kernelspec": {
   "display_name": "Python 3",
   "language": "python",
   "name": "python3"
  },
  "language_info": {
   "codemirror_mode": {
    "name": "ipython",
    "version": 3
   },
   "file_extension": ".py",
   "mimetype": "text/x-python",
   "name": "python",
   "nbconvert_exporter": "python",
   "pygments_lexer": "ipython3",
   "version": "3.7.6"
  }
 },
 "nbformat": 4,
 "nbformat_minor": 4
}
